{
 "cells": [
  {
   "cell_type": "markdown",
   "metadata": {},
   "source": [
    "# Portée des variables"
   ]
  },
  {
   "cell_type": "raw",
   "metadata": {},
   "source": [
    "Réalisé par Angélique Renaud, Nolwenn Lebras, Gérald Forhand, Adeline Berthelot."
   ]
  },
  {
   "cell_type": "code",
   "execution_count": null,
   "metadata": {},
   "outputs": [],
   "source": [
    "Prérequis : fonctions et variables1"
   ]
  },
  {
   "cell_type": "markdown",
   "metadata": {},
   "source": [
    "## Variables locales, variables globales"
   ]
  },
  {
   "cell_type": "raw",
   "metadata": {},
   "source": [
    "Une variable définie à l'intérieur d'une fonction est une variable locale à cette fonction. \n"
   ]
  },
  {
   "cell_type": "raw",
   "metadata": {},
   "source": [
    "Exemple : a est une variable locale à la fonction ma_fonction"
   ]
  },
  {
   "cell_type": "code",
   "execution_count": 11,
   "metadata": {},
   "outputs": [
    {
     "name": "stdout",
     "output_type": "stream",
     "text": [
      "var =2 , résultat = 39\n"
     ]
    }
   ],
   "source": [
    "def ma_fonction(x):\n",
    "    a = 5\n",
    "    x = 2*x + 7*a\n",
    "    return x\n",
    "\n",
    "var = 2\n",
    "resultat = ma_fonction(var)\n",
    "\n",
    "print(f\"var ={var} , résultat = {resultat}\")"
   ]
  },
  {
   "cell_type": "raw",
   "metadata": {},
   "source": [
    "Ces variables sont automatiquement supprimées dès que la fonction a été exécutée.\n",
    "Exemple :"
   ]
  },
  {
   "cell_type": "code",
   "execution_count": 2,
   "metadata": {},
   "outputs": [
    {
     "ename": "NameError",
     "evalue": "name 'a' is not defined",
     "output_type": "error",
     "traceback": [
      "\u001b[0;31m---------------------------------------------------------------------------\u001b[0m",
      "\u001b[0;31mNameError\u001b[0m                                 Traceback (most recent call last)",
      "\u001b[0;32m<ipython-input-2-8b770205e086>\u001b[0m in \u001b[0;36m<module>\u001b[0;34m()\u001b[0m\n\u001b[1;32m      7\u001b[0m \u001b[0mresultat\u001b[0m \u001b[0;34m=\u001b[0m \u001b[0mma_fonction\u001b[0m\u001b[0;34m(\u001b[0m\u001b[0mvar\u001b[0m\u001b[0;34m)\u001b[0m\u001b[0;34m\u001b[0m\u001b[0m\n\u001b[1;32m      8\u001b[0m \u001b[0;34m\u001b[0m\u001b[0m\n\u001b[0;32m----> 9\u001b[0;31m \u001b[0mprint\u001b[0m\u001b[0;34m(\u001b[0m\u001b[0;34mf\"var = \"\u001b[0m\u001b[0;34m,\u001b[0m\u001b[0mvar\u001b[0m\u001b[0;34m,\u001b[0m\u001b[0;34m\"résultat = \"\u001b[0m\u001b[0;34m,\u001b[0m \u001b[0mresultat\u001b[0m\u001b[0;34m,\u001b[0m\u001b[0;34m\"a=\"\u001b[0m\u001b[0;34m,\u001b[0m\u001b[0ma\u001b[0m\u001b[0;34m)\u001b[0m\u001b[0;34m\u001b[0m\u001b[0m\n\u001b[0m",
      "\u001b[0;31mNameError\u001b[0m: name 'a' is not defined"
     ]
    }
   ],
   "source": [
    "def ma_fonction(x):\n",
    "    a = 5\n",
    "    x = 2*x + 7*a\n",
    "    return x\n",
    "\n",
    "var = 2\n",
    "resultat = ma_fonction(var)\n",
    "\n",
    "print(f\"var = {var} , résultat = {resultat} , a=\"{a})"
   ]
  },
  {
   "cell_type": "raw",
   "metadata": {},
   "source": [
    "La variable \"a\" a été supprimée une fois la fonction exécutée, elle ne peut donc pas faire référence à 5."
   ]
  },
  {
   "cell_type": "raw",
   "metadata": {},
   "source": [
    "Une variable définie à l'extérieur des fonctions est une variable globale. \n",
    "On peut accéder en lecture à une variable globale à l'intérieur d'une fonction"
   ]
  },
  {
   "cell_type": "code",
   "execution_count": 24,
   "metadata": {},
   "outputs": [
    {
     "name": "stdout",
     "output_type": "stream",
     "text": [
      "var1 = 2 , var2 = 5 , résultat = 11\n"
     ]
    }
   ],
   "source": [
    "def ma_fonction(x):\n",
    "    x = 3*x + var2 \n",
    "    return x\n",
    "\n",
    "var1 = 2\n",
    "var2 = 5\n",
    "\n",
    "resultat = ma_fonction(var1)\n",
    "\n",
    "print(f\"var1 = {var1} , var2 = {var2} , résultat = {resultat}\")"
   ]
  },
  {
   "cell_type": "code",
   "execution_count": null,
   "metadata": {},
   "outputs": [],
   "source": []
  },
  {
   "cell_type": "markdown",
   "metadata": {},
   "source": [
    "## Règles\n"
   ]
  },
  {
   "cell_type": "raw",
   "metadata": {},
   "source": [
    "Règle 1:\n",
    "    Lorsque deux variables de portées différentes ont le même nom, c'est la variable locale qui est prise en compte à l'intérieur de la fonction."
   ]
  },
  {
   "cell_type": "markdown",
   "metadata": {},
   "source": [
    "![title](./Fonctions-Variables.png)"
   ]
  },
  {
   "cell_type": "code",
   "execution_count": 4,
   "metadata": {},
   "outputs": [
    {
     "name": "stdout",
     "output_type": "stream",
     "text": [
      "var1 = 2 , var2 = 4 , résultat =  11\n"
     ]
    }
   ],
   "source": [
    "def ma_fonction(x):\n",
    "    var2 = 5\n",
    "    x = 3*x + var2\n",
    "    return x\n",
    "\n",
    "var1 = 2\n",
    "var2 = 4\n",
    "\n",
    "resultat = ma_fonction(var1)\n",
    "\n",
    "print(f\"var1 = {var1} , var2 = {var }, résultat = \" {resultat}\")"
   ]
  },
  {
   "cell_type": "raw",
   "metadata": {},
   "source": [
    "Règle 2:\n",
    "    On ne peut pas utiliser d’abord une variable comme une variable globale, puis essayer de l’affecter localement ( ce qui signifierait la déclarer comme une locale)"
   ]
  },
  {
   "cell_type": "code",
   "execution_count": 23,
   "metadata": {},
   "outputs": [
    {
     "ename": "UnboundLocalError",
     "evalue": "local variable 'var2' referenced before assignment",
     "output_type": "error",
     "traceback": [
      "\u001b[0;31m---------------------------------------------------------------------------\u001b[0m",
      "\u001b[0;31mUnboundLocalError\u001b[0m                         Traceback (most recent call last)",
      "\u001b[0;32m<ipython-input-23-f0c50d43376c>\u001b[0m in \u001b[0;36m<module>\u001b[0;34m()\u001b[0m\n\u001b[1;32m      7\u001b[0m \u001b[0mvar2\u001b[0m \u001b[0;34m=\u001b[0m \u001b[0;36m4\u001b[0m\u001b[0;34m\u001b[0m\u001b[0m\n\u001b[1;32m      8\u001b[0m \u001b[0;34m\u001b[0m\u001b[0m\n\u001b[0;32m----> 9\u001b[0;31m \u001b[0mresultat\u001b[0m \u001b[0;34m=\u001b[0m \u001b[0mma_fonction\u001b[0m\u001b[0;34m(\u001b[0m\u001b[0mvar1\u001b[0m\u001b[0;34m)\u001b[0m\u001b[0;34m\u001b[0m\u001b[0m\n\u001b[0m\u001b[1;32m     10\u001b[0m \u001b[0;34m\u001b[0m\u001b[0m\n\u001b[1;32m     11\u001b[0m \u001b[0mprint\u001b[0m\u001b[0;34m(\u001b[0m\u001b[0;34m\"var1 =\"\u001b[0m\u001b[0;34m,\u001b[0m\u001b[0mvar1\u001b[0m\u001b[0;34m,\u001b[0m\u001b[0;34m\", var2 =\"\u001b[0m\u001b[0;34m,\u001b[0m \u001b[0mvar2\u001b[0m\u001b[0;34m,\u001b[0m\u001b[0;34m\", résultat = \"\u001b[0m\u001b[0;34m,\u001b[0m\u001b[0mresultat\u001b[0m\u001b[0;34m)\u001b[0m\u001b[0;34m\u001b[0m\u001b[0m\n",
      "\u001b[0;32m<ipython-input-23-f0c50d43376c>\u001b[0m in \u001b[0;36mma_fonction\u001b[0;34m(x)\u001b[0m\n\u001b[1;32m      1\u001b[0m \u001b[0;32mdef\u001b[0m \u001b[0mma_fonction\u001b[0m\u001b[0;34m(\u001b[0m\u001b[0mx\u001b[0m\u001b[0;34m)\u001b[0m\u001b[0;34m:\u001b[0m\u001b[0;34m\u001b[0m\u001b[0m\n\u001b[0;32m----> 2\u001b[0;31m     \u001b[0mx\u001b[0m \u001b[0;34m=\u001b[0m \u001b[0;36m3\u001b[0m\u001b[0;34m*\u001b[0m\u001b[0mx\u001b[0m \u001b[0;34m+\u001b[0m \u001b[0mvar2\u001b[0m\u001b[0;34m\u001b[0m\u001b[0m\n\u001b[0m\u001b[1;32m      3\u001b[0m     \u001b[0mvar2\u001b[0m \u001b[0;34m=\u001b[0m \u001b[0;36m5\u001b[0m\u001b[0;34m\u001b[0m\u001b[0m\n\u001b[1;32m      4\u001b[0m     \u001b[0;32mreturn\u001b[0m \u001b[0mx\u001b[0m\u001b[0;34m\u001b[0m\u001b[0m\n\u001b[1;32m      5\u001b[0m \u001b[0;34m\u001b[0m\u001b[0m\n",
      "\u001b[0;31mUnboundLocalError\u001b[0m: local variable 'var2' referenced before assignment"
     ]
    }
   ],
   "source": [
    "def ma_fonction(x):\n",
    "    x = 3*x + var2\n",
    "    var2 = 5\n",
    "    return x\n",
    "\n",
    "var1 = 2\n",
    "var2 = 4\n",
    "\n",
    "resultat = ma_fonction(var1)\n",
    "\n",
    "print(f\"var1 = {var1}, var2 = {var2}, résultat = {resultat})"
   ]
  },
  {
   "cell_type": "markdown",
   "metadata": {},
   "source": [
    "## Exercices"
   ]
  },
  {
   "cell_type": "raw",
   "metadata": {},
   "source": [
    "Essayer de deviner ce qui s'affichera lorsque les programmes vont s'exécuter, puis vérifier "
   ]
  },
  {
   "cell_type": "code",
   "execution_count": 5,
   "metadata": {},
   "outputs": [
    {
     "name": "stdout",
     "output_type": "stream",
     "text": [
      "m= 5.5 , test = 0\n"
     ]
    }
   ],
   "source": [
    "def moyenne(x,y):\n",
    "    resultat=(x+y)/2\n",
    "    test = resultat\n",
    "    return test\n",
    "a,b = 5,6\n",
    "test = 0\n",
    "m = moyenne(a,b)\n",
    "print(f\"m= {m} , test = {test}\")"
   ]
  },
  {
   "cell_type": "code",
   "execution_count": 6,
   "metadata": {},
   "outputs": [
    {
     "name": "stdout",
     "output_type": "stream",
     "text": [
      "a = 6\n",
      "a = 6\n",
      "a = 6\n",
      "a = 6\n",
      "a = 6\n",
      "a = 6\n",
      "a = 6\n",
      "a = 6\n",
      "a = 6\n",
      "a = 6\n"
     ]
    }
   ],
   "source": [
    "def truc():\n",
    "    a = 5\n",
    "    a = a + 1\n",
    "    print(f\"a = {a}\")\n",
    "    \n",
    "for i in range(10):\n",
    "    truc()\n",
    "    "
   ]
  },
  {
   "cell_type": "code",
   "execution_count": 7,
   "metadata": {},
   "outputs": [
    {
     "name": "stdout",
     "output_type": "stream",
     "text": [
      "a = 5\n",
      "a = 6\n",
      "a = 7\n",
      "a = 8\n",
      "a = 9\n",
      "a = 10\n",
      "a = 11\n",
      "a = 12\n",
      "a = 13\n",
      "a = 14\n"
     ]
    }
   ],
   "source": [
    "def truc(b):\n",
    "    a = 5\n",
    "    a = a + b\n",
    "    print(f\"a = {a}\")\n",
    "    \n",
    "for i in range(10):\n",
    "    truc(i)"
   ]
  },
  {
   "cell_type": "code",
   "execution_count": 8,
   "metadata": {},
   "outputs": [
    {
     "name": "stdout",
     "output_type": "stream",
     "text": [
      "125\n"
     ]
    },
    {
     "ename": "NameError",
     "evalue": "name 'c' is not defined",
     "output_type": "error",
     "traceback": [
      "\u001b[0;31m---------------------------------------------------------------------------\u001b[0m",
      "\u001b[0;31mNameError\u001b[0m                                 Traceback (most recent call last)",
      "\u001b[0;32m<ipython-input-8-3633acb71061>\u001b[0m in \u001b[0;36m<module>\u001b[0;34m()\u001b[0m\n\u001b[1;32m      7\u001b[0m \u001b[0mx\u001b[0m\u001b[0;34m,\u001b[0m\u001b[0my\u001b[0m \u001b[0;34m=\u001b[0m \u001b[0;36m3\u001b[0m\u001b[0;34m,\u001b[0m\u001b[0;36m5\u001b[0m\u001b[0;34m\u001b[0m\u001b[0m\n\u001b[1;32m      8\u001b[0m \u001b[0mprint\u001b[0m\u001b[0;34m(\u001b[0m\u001b[0mpuissance\u001b[0m \u001b[0;34m(\u001b[0m\u001b[0my\u001b[0m\u001b[0;34m,\u001b[0m\u001b[0mx\u001b[0m\u001b[0;34m)\u001b[0m\u001b[0;34m)\u001b[0m\u001b[0;34m\u001b[0m\u001b[0m\n\u001b[0;32m----> 9\u001b[0;31m \u001b[0mprint\u001b[0m\u001b[0;34m(\u001b[0m\u001b[0;34mf\"c = {c}, et d = {d}\"\u001b[0m\u001b[0;34m)\u001b[0m\u001b[0;34m\u001b[0m\u001b[0m\n\u001b[0m",
      "\u001b[0;31mNameError\u001b[0m: name 'c' is not defined"
     ]
    }
   ],
   "source": [
    "def puissance(a,b):\n",
    "    c,d=1,0\n",
    "    while d<b:\n",
    "        c = a*c\n",
    "        d = d+ 1\n",
    "    return c\n",
    "x,y = 3,5\n",
    "print(puissance (y,x))\n",
    "print(f\"c = {c}, et d = {d}\")"
   ]
  },
  {
   "cell_type": "markdown",
   "metadata": {},
   "source": [
    "## Modifier une variable globale à l'intérieur d'une fonction"
   ]
  },
  {
   "cell_type": "raw",
   "metadata": {},
   "source": [
    "Il est possible ( mais pas recommandé ) de modifier une variable globale à l'intérieur d'une fonction : il faut utiliser global avant d'utiliser cette variable."
   ]
  },
  {
   "cell_type": "code",
   "execution_count": 24,
   "metadata": {},
   "outputs": [
    {
     "name": "stdout",
     "output_type": "stream",
     "text": [
      "var1 = 2 , var2 = 5 , résultat =  10\n"
     ]
    }
   ],
   "source": [
    "def ma_fonction(x):\n",
    "    global var2\n",
    "    x = 3*x + var2\n",
    "    var2 = 5\n",
    "    return x\n",
    "\n",
    "var1 = 2\n",
    "var2 = 4\n",
    "\n",
    "resultat = ma_fonction(var1)\n",
    "\n",
    "print(f\"var1 = {var1}, var2 = {var2}, résultat = {resultat})"
   ]
  },
  {
   "cell_type": "markdown",
   "metadata": {},
   "source": [
    "## Avertissement"
   ]
  },
  {
   "cell_type": "raw",
   "metadata": {},
   "source": [
    "L'utilisation de global est à éviter, car modifier une variable globale de manière implicite est source d'erreurs et de buggs. \n",
    "Afin d'éviter d'utiliser global, il vaut mieux mettre la variable en argument de la fonction et utiliser le résultat de cette fonction pour modifier la variable de manière explicite. "
   ]
  },
  {
   "cell_type": "code",
   "execution_count": 25,
   "metadata": {},
   "outputs": [
    {
     "name": "stdout",
     "output_type": "stream",
     "text": [
      "var1 = 2 , var2 = 5 , résultat =  10\n"
     ]
    }
   ],
   "source": [
    "def ma_fonction(x,y):\n",
    "    x = 3*x + y\n",
    "    y = 5\n",
    "    return x,y\n",
    "\n",
    "var1 = 2\n",
    "var2 = 4\n",
    "\n",
    "resultat,var2 = ma_fonction(var1,var2)\n",
    "\n",
    "print(f\"var1 = {var1}, var2 = {var2}, résultat = {resultat})"
   ]
  },
  {
   "cell_type": "markdown",
   "metadata": {},
   "source": [
    "## Exercice :\n",
    "Modifier le code suivant afin d'obtenir un code \"propre\" sans utiliser global."
   ]
  },
  {
   "cell_type": "code",
   "execution_count": 10,
   "metadata": {},
   "outputs": [
    {
     "name": "stdout",
     "output_type": "stream",
     "text": [
      "a = 4, b = 2, c = 8\n"
     ]
    }
   ],
   "source": [
    "def f(x):\n",
    "    global a\n",
    "    a = a + 1\n",
    "    x = x*a\n",
    "    return x\n",
    "\n",
    "a , b = 3 ,2 \n",
    "c = f(b)\n",
    "print(f\"a = {a}, b = {b}, c = {c}\")"
   ]
  },
  {
   "cell_type": "markdown",
   "metadata": {},
   "source": [
    "## Constantes"
   ]
  },
  {
   "cell_type": "raw",
   "metadata": {},
   "source": [
    "Certaines variables représentent des valeurs qui ne sont pas vouées à être modifier par le code. Ex  : taille, dimension, ....\n",
    "Il s'agit de constantes, par convention elles sont définies en majuscules.\n",
    "ex : TAILLE = 10\n",
    "     LONGUEUR = 200"
   ]
  }
 ],
 "metadata": {
  "kernelspec": {
   "display_name": "Python 3",
   "language": "python",
   "name": "python3"
  },
  "language_info": {
   "codemirror_mode": {
    "name": "ipython",
    "version": 3
   },
   "file_extension": ".py",
   "mimetype": "text/x-python",
   "name": "python",
   "nbconvert_exporter": "python",
   "pygments_lexer": "ipython3",
   "version": "3.6.3"
  }
 },
 "nbformat": 4,
 "nbformat_minor": 2
}
